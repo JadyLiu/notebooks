{
 "cells": [
  {
   "cell_type": "code",
   "execution_count": 1,
   "metadata": {},
   "outputs": [],
   "source": [
    "import os\n",
    "import re\n",
    "import numpy as np   \n",
    "import pandas as pd\n",
    "import matplotlib.pyplot as plt\n",
    "import seaborn as sns"
   ]
  },
  {
   "cell_type": "code",
   "execution_count": 8,
   "metadata": {},
   "outputs": [
    {
     "data": {
      "text/html": [
       "<div>\n",
       "<style scoped>\n",
       "    .dataframe tbody tr th:only-of-type {\n",
       "        vertical-align: middle;\n",
       "    }\n",
       "\n",
       "    .dataframe tbody tr th {\n",
       "        vertical-align: top;\n",
       "    }\n",
       "\n",
       "    .dataframe thead th {\n",
       "        text-align: right;\n",
       "    }\n",
       "</style>\n",
       "<table border=\"1\" class=\"dataframe\">\n",
       "  <thead>\n",
       "    <tr style=\"text-align: right;\">\n",
       "      <th></th>\n",
       "      <th>Away_Team</th>\n",
       "      <th>Away_Score</th>\n",
       "      <th>Home_Team</th>\n",
       "      <th>Home_Score</th>\n",
       "      <th>year</th>\n",
       "      <th>day</th>\n",
       "      <th>tourney_game</th>\n",
       "    </tr>\n",
       "  </thead>\n",
       "  <tbody>\n",
       "    <tr>\n",
       "      <th>0</th>\n",
       "      <td>Michigan</td>\n",
       "      <td>62</td>\n",
       "      <td>Villanova</td>\n",
       "      <td>79</td>\n",
       "      <td>2018</td>\n",
       "      <td>2018-04-02</td>\n",
       "      <td>0</td>\n",
       "    </tr>\n",
       "    <tr>\n",
       "      <th>1</th>\n",
       "      <td>Loyola (IL)</td>\n",
       "      <td>57</td>\n",
       "      <td>Michigan</td>\n",
       "      <td>69</td>\n",
       "      <td>2018</td>\n",
       "      <td>2018-03-31</td>\n",
       "      <td>1</td>\n",
       "    </tr>\n",
       "    <tr>\n",
       "      <th>2</th>\n",
       "      <td>Villanova</td>\n",
       "      <td>95</td>\n",
       "      <td>Kansas</td>\n",
       "      <td>79</td>\n",
       "      <td>2018</td>\n",
       "      <td>2018-03-31</td>\n",
       "      <td>1</td>\n",
       "    </tr>\n",
       "    <tr>\n",
       "      <th>3</th>\n",
       "      <td>San Francisco</td>\n",
       "      <td>77</td>\n",
       "      <td>North Texas</td>\n",
       "      <td>88</td>\n",
       "      <td>2018</td>\n",
       "      <td>2018-03-30</td>\n",
       "      <td>1</td>\n",
       "    </tr>\n",
       "    <tr>\n",
       "      <th>4</th>\n",
       "      <td>UIC</td>\n",
       "      <td>71</td>\n",
       "      <td>Northern Colorado</td>\n",
       "      <td>76</td>\n",
       "      <td>2018</td>\n",
       "      <td>2018-03-30</td>\n",
       "      <td>1</td>\n",
       "    </tr>\n",
       "  </tbody>\n",
       "</table>\n",
       "</div>"
      ],
      "text/plain": [
       "       Away_Team  Away_Score          Home_Team  Home_Score  year         day  \\\n",
       "0       Michigan          62          Villanova          79  2018  2018-04-02   \n",
       "1    Loyola (IL)          57           Michigan          69  2018  2018-03-31   \n",
       "2      Villanova          95             Kansas          79  2018  2018-03-31   \n",
       "3  San Francisco          77        North Texas          88  2018  2018-03-30   \n",
       "4            UIC          71  Northern Colorado          76  2018  2018-03-30   \n",
       "\n",
       "   tourney_game  \n",
       "0             0  \n",
       "1             1  \n",
       "2             1  \n",
       "3             1  \n",
       "4             1  "
      ]
     },
     "execution_count": 8,
     "metadata": {},
     "output_type": "execute_result"
    }
   ],
   "source": [
    "historic_data = pd.read_csv('KenPomHistoric_2002_2017.csv')\n",
    "teams_data = pd.read_csv('kenpom_teams.csv')\n",
    "current_season_data = pd.read_csv('kenpomnew_active.csv')\n",
    "historic_game_data = pd.read_csv('historic_game_results.csv')\n",
    "historic_game_data.head()"
   ]
  },
  {
   "cell_type": "code",
   "execution_count": null,
   "metadata": {},
   "outputs": [],
   "source": []
  }
 ],
 "metadata": {
  "kernelspec": {
   "display_name": "Python 3",
   "language": "python",
   "name": "python3"
  },
  "language_info": {
   "codemirror_mode": {
    "name": "ipython",
    "version": 3
   },
   "file_extension": ".py",
   "mimetype": "text/x-python",
   "name": "python",
   "nbconvert_exporter": "python",
   "pygments_lexer": "ipython3",
   "version": "3.7.3"
  },
  "toc": {
   "base_numbering": 1,
   "nav_menu": {},
   "number_sections": true,
   "sideBar": true,
   "skip_h1_title": false,
   "title_cell": "Table of Contents",
   "title_sidebar": "Contents",
   "toc_cell": false,
   "toc_position": {},
   "toc_section_display": true,
   "toc_window_display": false
  }
 },
 "nbformat": 4,
 "nbformat_minor": 2
}
